{
 "cells": [
  {
   "cell_type": "markdown",
   "metadata": {},
   "source": [
    "# Press \"SHIFT + ENTER\" to run a cell, all cells should be run in order, from top to bottom"
   ]
  },
  {
   "cell_type": "markdown",
   "metadata": {},
   "source": [
    "### First we import some libraries"
   ]
  },
  {
   "cell_type": "code",
   "execution_count": 2,
   "metadata": {},
   "outputs": [],
   "source": [
    "import numpy as np\n",
    "from PIL import Image"
   ]
  },
  {
   "cell_type": "markdown",
   "metadata": {},
   "source": [
    "### Then we set some parameters:\n",
    "1. Change 4096 to the size you want your unsig to be (width and height will be the same)"
   ]
  },
  {
   "cell_type": "code",
   "execution_count": 3,
   "metadata": {},
   "outputs": [],
   "source": [
    "#pixel dimension\n",
    "dim = 4096"
   ]
  },
  {
   "cell_type": "markdown",
   "metadata": {},
   "source": [
    "## input your unsigs:\n",
    "1. index (number)\n",
    "2. number of properties\n",
    "3. the values of these properties (be careful, words like 'Green' and 'Normal' need to be enclosed in quotes"
   ]
  },
  {
   "cell_type": "code",
   "execution_count": 8,
   "metadata": {},
   "outputs": [],
   "source": [
    "#replace the content inside {} with your unsig's properties\n",
    "unsig = {'index': 2240,\n",
    "         'num_props': 3,\n",
    "         'properties': {\n",
    "             'multipliers'   : [2, 2, 4],\n",
    "             'colors'        : ['Green', 'Blue', 'Red'],\n",
    "             'distributions' : ['CDF', 'CDF', 'CDF'],\n",
    "             'rotations'     : [0, 0, 90]}}"
   ]
  },
  {
   "cell_type": "markdown",
   "metadata": {},
   "source": [
    "## Run the cell below!"
   ]
  },
  {
   "cell_type": "code",
   "execution_count": 61,
   "metadata": {},
   "outputs": [],
   "source": [
    "# Daniel:\n",
    "#   Generates a bell curve (normal distribution)\n",
    "def norm(x , mean , std):\n",
    "    p = (np.pi*std) * np.exp(-0.5*((x-mean)/std)**2)\n",
    "    return p\n",
    "\n",
    "def scale_make2d(s):\n",
    "    # Sources:\n",
    "    #   https://numpy.org/doc/stable/reference/generated/numpy.interp.html\n",
    "    #   Returns the one-dimensional piecewise linear interpolant to a function with given discrete data points (xp, fp), evaluated at x.\n",
    "    #   https://en.wikipedia.org/wiki/Linear_interpolation\n",
    "    # Notes:\n",
    "    #   s: coordinates where to evaluate the interpolated values\n",
    "    #   (s.min(), s.max()): 1-D floats of the X plane, in order from min to max\n",
    "    #   (0, u_range):  1-D floats of the Y plane, same size as the previous one\n",
    "    # Daniel:\n",
    "    #   aka: joins dots with lines\n",
    "    #   smooths input s into dimension \"dim\"\n",
    "    scaled = np.interp(s, (s.min(), s.max()), (0, u_range))\n",
    "    # Note:\n",
    "    #   Construct an array by repeating (dim, 1) the number of times given by \"scaled\".\n",
    "    # Daniel:\n",
    "    #   Copies the one array into the other dimension\n",
    "    two_d = np.tile(scaled, (dim, 1))\n",
    "    return two_d\n",
    "\n",
    "# here \"nft\" seems unused. Previously gen_nft(_nft)\n",
    "# Daniel:\n",
    "#   why is it unused? -- Alexander is taking advantage of the global scope.\n",
    "#   Makes the code smaller, although it's not generally recommended.\n",
    "def gen_nft():\n",
    "    idx = unsig['index']\n",
    "    props = unsig['properties']\n",
    "    \n",
    "    # Daniel:\n",
    "    #   Fills the area with zeroes, aka black\n",
    "    n = np.zeros((dim, dim, 3)).astype(np.uint32)\n",
    "\n",
    "    # Daniel:\n",
    "    #   per property in an unsig...\n",
    "    #   rotates and multiplies the distribution of that property (Normal or CDF)\n",
    "    #   then sets the color on each property of the resulting array.\n",
    "    for i in range(unsig['num_props']):\n",
    "        mult = props['multipliers'][i]\n",
    "        col = props['colors'][i]\n",
    "        dist = props['distributions'][i]\n",
    "        rot = props['rotations'][i]\n",
    "        c = channels[col]\n",
    "        # this is the source of the rollover\n",
    "        buffer =  mult * np.rot90(dists[dist], k=(rot / 90))\n",
    "        n[ :, :, c ] = n[ :, :, c ] + buffer\n",
    "\n",
    "    # Daniel:\n",
    "    #   this is like, compressing the prior values into the 0 to 255 range.\n",
    "    #   Here is where the rollover happens: n is uint32 and here we force it down to uint8.\n",
    "    #   Q: Can the rest be coded on uint16 and then here compressed to uint8?\n",
    "    #   A: Perhaps, but many of the constants need to change.\n",
    "    n = np.interp(n, (0, u_range), (0, 255)).astype(np.uint8)\n",
    "\n",
    "    return (idx, n)\n",
    "\n",
    "if __name__ == '__main__':\n",
    "    # What this does:\n",
    "    # - Creates the empty space to fill \"dim\" in 2d\n",
    "    # - Creates a normal distribution (used for \"Normal\" properties in unsigs).\n",
    "    # - Creates a cumulative distribution (the S shape of unsigs used on \"CDF\" properties).\n",
    "    # - These two are simply 1d arrays, so then Alexander makes them 2d arrays.\n",
    "    # - then calls gen_nft, which:\n",
    "    #   - goes over each property, adding a layer resulting of the multiplication and rotation of the distribution of that property\n",
    "    #   - Adds the color of the layer\n",
    "    #   - Maps the values into 0-255\n",
    "    #   - Thus generating arrays of (r, g, b, \"Color name\") elements\n",
    "    #   - Which is the exact shape of an array of RGB pixels.\n",
    "    # - then prints the image\n",
    "\n",
    "    #setup\n",
    "    x = list(range(dim))\n",
    "    u_range = 4294967293\n",
    "    mean = np.mean(x)\n",
    "\n",
    "    # Me:\n",
    "    #   This seems very arbitrary. Probably Alexander's personal touch.\n",
    "    # Alexander:\n",
    "    #   Affects the tightness or fatness of the bell curve\n",
    "    std = dim/6\n",
    "\n",
    "    # probability and cumulative distribution\n",
    "    # Daniel:\n",
    "    #   This is really what determines the shape of unsigs,\n",
    "    #   It's like a warped map that ensures things fall into place quite nicely\n",
    "    # Alexander:\n",
    "    #   The first one makes a 1 dimensional array with a normal distribution.\n",
    "    #   The second one cumulatively sums the array to make the S curve.\n",
    "    #   Thanks to the second one, it slowly takes off, speeds up, and then decelerates again\n",
    "    p_1d = np.array(norm(x, mean, std)).astype(np.uint32)\n",
    "    c_1d = np.cumsum(p_1d)\n",
    "\n",
    "    #2d arrays\n",
    "    p_2d = scale_make2d(p_1d)\n",
    "    c_2d = scale_make2d(c_1d)\n",
    "\n",
    "    #dicts for retrieving values\n",
    "    dists = {'Normal': p_2d, 'CDF': c_2d}\n",
    "    channels = {'Red': 0, 'Green': 1, 'Blue': 2}\n",
    "    \n",
    "    #make your nft\n",
    "    # unsig here is undefined\n",
    "    i, nft = gen_nft() # previously: gen_nft(unsig)\n",
    "    \n",
    "    img = Image.fromarray(nft)\n",
    "    img.save(f'unsig_{i:05d}.png')"
   ]
  },
  {
   "cell_type": "markdown",
   "metadata": {},
   "source": [
    "# <- Look over there, you should see a file named \"unsig_YOURUNSIG#.png\" right click it and choose download!"
   ]
  }
 ],
 "metadata": {
  "interpreter": {
   "hash": "40d3a090f54c6569ab1632332b64b2c03c39dcf918b08424e98f38b5ae0af88f"
  },
  "kernelspec": {
   "display_name": "Python 3.9.7 ('base')",
   "language": "python",
   "name": "python3"
  },
  "language_info": {
   "codemirror_mode": {
    "name": "ipython",
    "version": 3
   },
   "file_extension": ".py",
   "mimetype": "text/x-python",
   "name": "python",
   "nbconvert_exporter": "python",
   "pygments_lexer": "ipython3",
   "version": "3.9.7"
  }
 },
 "nbformat": 4,
 "nbformat_minor": 4
}
